{
  "cells": [
    {
      "cell_type": "markdown",
      "source": [
        "# Limpeza e manipulação de dados\n",
        "Esse notebook demonstra a limpeza e modelagem de dados para uso no Amazon Personalize. O dataset contém informações sobre interações de usuários com itens de e-commerce. A partir dele, serão modelados 2 datasets:\n",
        "### - Item Interactions\n",
        "Deve conter as seguintes colunas:\n",
        "\n",
        "![Screenshot_1.jpg](data:image/jpeg;base64,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)\n",
        "\n",
        "### - Items\n",
        "Deve conter as seguintes colunas:\n",
        "\n",
        "![Screenshot_2.jpg](data:image/jpeg;base64,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)"
      ],
      "metadata": {
        "id": "Qr8xf-55kFde"
      },
      "id": "Qr8xf-55kFde"
    },
    {
      "cell_type": "markdown",
      "source": [
        "**Importando bibliotecas:**\n",
        "O pandas será utilizado para lidar com o dataset. O numpy é utilizado apenas uma vez, para manter uma proporção no preenchimento de valores vazios."
      ],
      "metadata": {
        "id": "qebXuUEzNfWi"
      },
      "id": "qebXuUEzNfWi"
    },
    {
      "cell_type": "code",
      "execution_count": null,
      "id": "10bb4d0a-38b9-4816-a3fb-a8c3df0a1c37",
      "metadata": {
        "id": "10bb4d0a-38b9-4816-a3fb-a8c3df0a1c37"
      },
      "outputs": [],
      "source": [
        "import pandas as pd\n",
        "import numpy as np"
      ]
    },
    {
      "cell_type": "markdown",
      "source": [
        "**Importando o dataset:**\n",
        "Aqui, o dataset é importado como um DataFrame, e a função head() mostra suas 5 primeiras linhas, para breve análise."
      ],
      "metadata": {
        "id": "6PLW5TwPOA_M"
      },
      "id": "6PLW5TwPOA_M"
    },
    {
      "cell_type": "code",
      "execution_count": null,
      "id": "a3b8829e-4ea4-48ec-94e7-21babba2a298",
      "metadata": {
        "id": "a3b8829e-4ea4-48ec-94e7-21babba2a298"
      },
      "outputs": [],
      "source": [
        "df = pd.read_csv('events.csv')\n",
        "df.head()"
      ]
    },
    {
      "cell_type": "markdown",
      "source": [
        "**Entendedo os dados:**\n",
        "As seguintes linhas imprimem algumas informações gerais, como a quantidade de linhas e colunas, os DataTypes presentes e a quantidade de nulos."
      ],
      "metadata": {
        "id": "SR41IEAjOry1"
      },
      "id": "SR41IEAjOry1"
    },
    {
      "cell_type": "code",
      "execution_count": null,
      "id": "b66130ad-55bc-4031-8774-af9ed24e560a",
      "metadata": {
        "id": "b66130ad-55bc-4031-8774-af9ed24e560a"
      },
      "outputs": [],
      "source": [
        "print('=============== Informações ============')\n",
        "print(df.info())\n",
        "print(\"========================================\")\n",
        "print('')\n",
        "print('============= Linhas, colunas =========')\n",
        "print(df.shape)\n",
        "print(\"========================================\")\n",
        "print('')\n",
        "print('=============== DataTypes ==============')\n",
        "print(df.dtypes)\n",
        "print(\"========================================\")\n",
        "print('')\n",
        "print(\"================= Nulos ================\")\n",
        "print(df.isnull().sum())\n",
        "print(\"========================================\")"
      ]
    },
    {
      "cell_type": "markdown",
      "source": [
        "**Apagando nulos:**\n",
        "Como os nulos são poucos e estão localizados em colunas importantes, é mais fácil apagar as linhas em que os valores estão faltando."
      ],
      "metadata": {
        "id": "d4OsxNcjO8La"
      },
      "id": "d4OsxNcjO8La"
    },
    {
      "cell_type": "code",
      "execution_count": null,
      "id": "d95b953e-0d9b-4db8-b459-27523d4c74b6",
      "metadata": {
        "id": "d95b953e-0d9b-4db8-b459-27523d4c74b6"
      },
      "outputs": [],
      "source": [
        "df.dropna(inplace=True)\n",
        "print(df.shape)\n",
        "df.isnull().sum()"
      ]
    },
    {
      "cell_type": "markdown",
      "source": [
        "**Gereciando colunas:**\n",
        "As colunas são renomeadas para atenderem aos requisitos do Amazon Personalize. Colunas inúteis são apagadas e as restantes serão gerenciadas mais tarde."
      ],
      "metadata": {
        "id": "tafsLw2hPOna"
      },
      "id": "tafsLw2hPOna"
    },
    {
      "cell_type": "code",
      "execution_count": null,
      "id": "a995f446-a9d0-46b0-9fd9-bb83be211612",
      "metadata": {
        "id": "a995f446-a9d0-46b0-9fd9-bb83be211612"
      },
      "outputs": [],
      "source": [
        "df.rename(columns={'user_id': 'USER_ID', 'event_time': 'TIMESTAMP',\n",
        "                   'product_id': 'ITEM_ID', 'event_type': 'EVENT_TYPE'}, inplace=True)\n",
        "\n",
        "df.drop(columns=['user_session', 'category_id'], inplace=True)\n",
        "df.head()"
      ]
    },
    {
      "cell_type": "markdown",
      "source": [
        "**Alterando Data Type:**\n",
        "As colunas de ID foram importadas como int. Para compatibilidade com o serviço da Amazon, é necessário convertê-las para string."
      ],
      "metadata": {
        "id": "yWko24moPhoo"
      },
      "id": "yWko24moPhoo"
    },
    {
      "cell_type": "code",
      "execution_count": null,
      "id": "991c8b20-3186-48d7-a497-0c32660f012a",
      "metadata": {
        "id": "991c8b20-3186-48d7-a497-0c32660f012a"
      },
      "outputs": [],
      "source": [
        "df['ITEM_ID'] = df['ITEM_ID'].astype(str)\n",
        "df['USER_ID'] = df['USER_ID'].astype(str)"
      ]
    },
    {
      "cell_type": "markdown",
      "source": [
        "**Analisando coluna EVENT_TYPE:**\n",
        "O seguinte comando exibe os diferentes valores presentes na coluna."
      ],
      "metadata": {
        "id": "QFk1zDrrP29u"
      },
      "id": "QFk1zDrrP29u"
    },
    {
      "cell_type": "code",
      "execution_count": null,
      "id": "7f37ddca-e9ed-4816-b9fa-0c7dfaf524be",
      "metadata": {
        "id": "7f37ddca-e9ed-4816-b9fa-0c7dfaf524be"
      },
      "outputs": [],
      "source": [
        "df['EVENT_TYPE'].value_counts()"
      ]
    },
    {
      "cell_type": "markdown",
      "source": [
        "**Adaptando coluna EVENT_TYPE:**\n",
        "São realizadas duas alterações para atendar aos requisitos de compatibilidade:\n",
        "\n",
        "\n",
        "1.   Os eventos são capitalizados\n",
        "2.   Apenas eventos \"Purchase\" E \"View\" são aceitos. Então, todos os eventos \"Cart\" são substituidos por um dos dois valores possíveis, na mesma proporção que eles apareciam anteriormente (no caso, algo entre 98% de view e 2% de purchase)\n",
        "\n"
      ],
      "metadata": {
        "id": "ot3u7u5NQF1q"
      },
      "id": "ot3u7u5NQF1q"
    },
    {
      "cell_type": "code",
      "execution_count": null,
      "id": "a69c3e55-8421-43aa-9e78-8ee204ebaa61",
      "metadata": {
        "id": "a69c3e55-8421-43aa-9e78-8ee204ebaa61"
      },
      "outputs": [],
      "source": [
        "df['EVENT_TYPE'] = df.apply(lambda row: row['EVENT_TYPE'].capitalize(), axis=1)\n",
        "\n",
        "View_count = df['EVENT_TYPE'].value_counts().get('View', 0)\n",
        "Purchase_count = view = df['EVENT_TYPE'].value_counts().get('Purchase', 0)\n",
        "\n",
        "View_ratio = View_count / (View_count + Purchase_count)\n",
        "Purchase_ratio = 1 - View_ratio\n",
        "\n",
        "mask = df['EVENT_TYPE'] == 'Cart'\n",
        "replace_values = np.random.choice(['Purchase', 'View'], mask.sum(),\n",
        "                                  p=[Purchase_ratio, View_ratio])\n",
        "df.loc[mask, 'EVENT_TYPE'] = replace_values\n",
        "\n",
        "df['EVENT_TYPE'].value_counts()"
      ]
    },
    {
      "cell_type": "markdown",
      "source": [
        "**Alterando coluna de data:**\n",
        "A coluna de Timestamp precisa estar em formato long (quantidade de segundos desde 01/01/1970). As seguintes linhas realizam essa alteração e imprimem a tabela para checar."
      ],
      "metadata": {
        "id": "cKcPhIviRS-t"
      },
      "id": "cKcPhIviRS-t"
    },
    {
      "cell_type": "code",
      "execution_count": null,
      "id": "20677aa8-b90a-41a6-a20b-6c6a88bc834f",
      "metadata": {
        "id": "20677aa8-b90a-41a6-a20b-6c6a88bc834f"
      },
      "outputs": [],
      "source": [
        "df['TIMESTAMP'] = pd.to_datetime(df['TIMESTAMP']).dt.tz_localize(None)\n",
        "df['TIMESTAMP'] = (df['TIMESTAMP'] - pd.Timestamp(\"1970-01-01\")) // pd.Timedelta('1s')\n",
        "df['TIMESTAMP'].head()"
      ]
    },
    {
      "cell_type": "markdown",
      "source": [
        "**Criando dataset de items:**\n",
        "O DataFrame que foi trabalhado até agora será o dataset de item interactions. Copiaremos algumas das colunas para um novo DataFrame, que será o de items."
      ],
      "metadata": {
        "id": "M1aANs-LRpYs"
      },
      "id": "M1aANs-LRpYs"
    },
    {
      "cell_type": "code",
      "execution_count": null,
      "id": "c9332da0-7a47-47e0-85f7-52ddd3dfb911",
      "metadata": {
        "id": "c9332da0-7a47-47e0-85f7-52ddd3dfb911"
      },
      "outputs": [],
      "source": [
        "items_df = df[['category_code', 'brand', 'price', 'ITEM_ID']].copy()\n",
        "items_df.rename(columns={'category_code': 'CATEGORY_L1', 'price': 'PRICE'}, inplace=True)\n",
        "items_df.head()"
      ]
    },
    {
      "cell_type": "markdown",
      "source": [
        "**Excluindo duplicados:**\n",
        "Como a tabela original é de items interactions, logicamente existem múltiplas linhas com o mesmo ITEM_ID. Como queremos apenas as informações sobre cada item, podemos excluir as duplicatas."
      ],
      "metadata": {
        "id": "uvSPJqCuR5A7"
      },
      "id": "uvSPJqCuR5A7"
    },
    {
      "cell_type": "code",
      "execution_count": null,
      "id": "c0ea22a4-9dd3-4471-98f3-0db56ebf15cc",
      "metadata": {
        "id": "c0ea22a4-9dd3-4471-98f3-0db56ebf15cc"
      },
      "outputs": [],
      "source": [
        "print(items_df.duplicated(subset='ITEM_ID').sum())\n",
        "items_df.drop_duplicates(subset='ITEM_ID', inplace=True)\n",
        "print(\"============ DUPLICADOS REMOVIDOS =============\")\n",
        "print(items_df.duplicated(subset='ITEM_ID').sum())"
      ]
    },
    {
      "cell_type": "markdown",
      "source": [
        "**Criando coluna com o nome do item:**\n",
        "A partir da categoria e da marca do item, que são os valores aos quais temos acesso, simularemos um nome para cada item, juntando a marca e a última palavra da categoria. Não será utilizado pelo Personalize, mas será utilizado para identificarmos o produto que está sendo recomendado."
      ],
      "metadata": {
        "id": "VAip5XVzSNYP"
      },
      "id": "VAip5XVzSNYP"
    },
    {
      "cell_type": "code",
      "execution_count": null,
      "id": "613b0fed-1ff1-462b-8eed-4ed6b14c88e3",
      "metadata": {
        "id": "613b0fed-1ff1-462b-8eed-4ed6b14c88e3"
      },
      "outputs": [],
      "source": [
        "items_df['item_name'] = items_df.apply(lambda row: row['brand'] + ' ' + row['CATEGORY_L1'].split('.')[-1], axis=1)\n",
        "items_df.drop('brand', axis=1, inplace=True)\n",
        "items_df.head()"
      ]
    },
    {
      "cell_type": "markdown",
      "source": [
        "**Melhorando a coluna de categoria:**\n",
        "No dataset, as categorias estão definidas como, por exemplo, \"computer.network.router\". Substituimos os pontos por espaços para torná-las melhor para leitura. Além disso, o DataType é alterado para \"category\", como pedido pelo Personalize."
      ],
      "metadata": {
        "id": "N-33XwZtS4Ds"
      },
      "id": "N-33XwZtS4Ds"
    },
    {
      "cell_type": "code",
      "execution_count": null,
      "id": "cf554f8a-9fcb-4770-9dee-858c97b71666",
      "metadata": {
        "id": "cf554f8a-9fcb-4770-9dee-858c97b71666"
      },
      "outputs": [],
      "source": [
        "items_df['CATEGORY_L1'] = items_df.apply(lambda row: row['CATEGORY_L1'].replace('.', ' '), axis=1)\n",
        "items_df['CATEGORY_L1'] = items_df['CATEGORY_L1'].astype('category')\n",
        "items_df['CATEGORY_L1'].head()"
      ]
    },
    {
      "cell_type": "markdown",
      "source": [
        "**Limpando dataset de interactions:**\n",
        "Agora, com o dataset de items pronto, podemos nos livrar das colunas desnecessárias."
      ],
      "metadata": {
        "id": "rgujFjwtT478"
      },
      "id": "rgujFjwtT478"
    },
    {
      "cell_type": "code",
      "execution_count": null,
      "id": "44d01b4a-9d27-46a7-a152-208c89131a17",
      "metadata": {
        "id": "44d01b4a-9d27-46a7-a152-208c89131a17"
      },
      "outputs": [],
      "source": [
        "df.drop(columns=['category_code', 'brand', 'price'], inplace=True)\n",
        "df.head()"
      ]
    },
    {
      "cell_type": "code",
      "execution_count": null,
      "id": "61bcecab-3ca8-4098-b2fe-803a9d4f6133",
      "metadata": {
        "id": "61bcecab-3ca8-4098-b2fe-803a9d4f6133"
      },
      "outputs": [],
      "source": [
        "items_df.head()"
      ]
    },
    {
      "cell_type": "markdown",
      "source": [
        "**Salvando arquivos:**\n",
        "Por fim, os dois DataFrames são salvos como csv para utilização com a ferramenta de Machine Learning da Amazon."
      ],
      "metadata": {
        "id": "WeLTyeeCUEqt"
      },
      "id": "WeLTyeeCUEqt"
    },
    {
      "cell_type": "code",
      "execution_count": null,
      "id": "6f6a34b5-0ccf-4b0c-b115-bdc54c085f34",
      "metadata": {
        "id": "6f6a34b5-0ccf-4b0c-b115-bdc54c085f34"
      },
      "outputs": [],
      "source": [
        "df.to_csv('interactions.csv', index=False, float_format='%.0f')\n",
        "items_df.to_csv('items.csv', index=False, float_format='%.0f')"
      ]
    }
  ],
  "metadata": {
    "kernelspec": {
      "display_name": "Python 3 (ipykernel)",
      "language": "python",
      "name": "python3"
    },
    "language_info": {
      "codemirror_mode": {
        "name": "ipython",
        "version": 3
      },
      "file_extension": ".py",
      "mimetype": "text/x-python",
      "name": "python",
      "nbconvert_exporter": "python",
      "pygments_lexer": "ipython3",
      "version": "3.10.13"
    },
    "colab": {
      "provenance": []
    }
  },
  "nbformat": 4,
  "nbformat_minor": 5
}